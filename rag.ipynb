{
 "cells": [
  {
   "cell_type": "code",
   "execution_count": 1,
   "id": "e6e18e6e-f981-4a3a-babe-953c42de23e6",
   "metadata": {},
   "outputs": [],
   "source": [
    "import openai"
   ]
  },
  {
   "cell_type": "code",
   "execution_count": 2,
   "id": "ffe8e70f-8f53-4c4a-8097-4a629fd61e52",
   "metadata": {},
   "outputs": [
    {
     "name": "stdout",
     "output_type": "stream",
     "text": [
      "--2024-06-25 08:21:46--  https://github.com/alexeygrigorev/llm-rag-workshop/raw/main/notebooks/documents.json\n",
      "Resolving github.com (github.com)... 140.82.121.4\n",
      "Connecting to github.com (github.com)|140.82.121.4|:443... connected.\n",
      "HTTP request sent, awaiting response... 302 Found\n",
      "Location: https://raw.githubusercontent.com/alexeygrigorev/llm-rag-workshop/main/notebooks/documents.json [following]\n",
      "--2024-06-25 08:21:47--  https://raw.githubusercontent.com/alexeygrigorev/llm-rag-workshop/main/notebooks/documents.json\n",
      "Resolving raw.githubusercontent.com (raw.githubusercontent.com)... 185.199.110.133, 185.199.111.133, 185.199.108.133, ...\n",
      "Connecting to raw.githubusercontent.com (raw.githubusercontent.com)|185.199.110.133|:443... connected.\n",
      "HTTP request sent, awaiting response... 200 OK\n",
      "Length: 658332 (643K) [text/plain]\n",
      "Saving to: ‘documents.json’\n",
      "\n",
      "documents.json      100%[===================>] 642.90K  --.-KB/s    in 0.006s  \n",
      "\n",
      "2024-06-25 08:21:47 (98.0 MB/s) - ‘documents.json’ saved [658332/658332]\n",
      "\n"
     ]
    }
   ],
   "source": [
    "!wget https://github.com/alexeygrigorev/llm-rag-workshop/raw/main/notebooks/documents.json"
   ]
  },
  {
   "cell_type": "code",
   "execution_count": 3,
   "id": "f4a08c9b-3f97-4556-8253-c35206c17746",
   "metadata": {},
   "outputs": [],
   "source": [
    "import json"
   ]
  },
  {
   "cell_type": "code",
   "execution_count": 4,
   "id": "bc28baea-20b4-4726-9e47-afd7ba4fa562",
   "metadata": {},
   "outputs": [],
   "source": [
    "with open('./documents.json', 'rt') as f_in:\n",
    "    documents_all = json.load(f_in)"
   ]
  },
  {
   "cell_type": "code",
   "execution_count": 6,
   "id": "9072f70a-d5b8-47ff-9a0b-efd77646fedc",
   "metadata": {},
   "outputs": [
    {
     "data": {
      "text/plain": [
       "{'text': \"The purpose of this document is to capture frequently asked technical questions\\nThe exact day and hour of the course will be 15th Jan 2024 at 17h00. The course will start with the first  “Office Hours'' live.1\\nSubscribe to course public Google Calendar (it works from Desktop only).\\nRegister before the course starts using this link.\\nJoin the course Telegram channel with announcements.\\nDon’t forget to register in DataTalks.Club's Slack and join the channel.\",\n",
       " 'section': 'General course-related questions',\n",
       " 'question': 'Course - When will the course start?'}"
      ]
     },
     "execution_count": 6,
     "metadata": {},
     "output_type": "execute_result"
    }
   ],
   "source": [
    "documents_all[0]['documents'][0]"
   ]
  },
  {
   "cell_type": "code",
   "execution_count": 8,
   "id": "4ed544f0-7e58-4811-a05f-388503cd5e28",
   "metadata": {},
   "outputs": [],
   "source": [
    "documents = []\n",
    "\n",
    "for course in documents_all:\n",
    "    for doc in course['documents']:\n",
    "        doc['course'] = course['course']\n",
    "        documents.append(doc)"
   ]
  },
  {
   "cell_type": "code",
   "execution_count": 9,
   "id": "767c4624-f7e9-4d1e-8ff0-bd0d0ec93a88",
   "metadata": {},
   "outputs": [
    {
     "data": {
      "text/plain": [
       "948"
      ]
     },
     "execution_count": 9,
     "metadata": {},
     "output_type": "execute_result"
    }
   ],
   "source": [
    "len(documents)"
   ]
  },
  {
   "cell_type": "code",
   "execution_count": null,
   "id": "39aa7cba-3e3f-4126-883b-e935e5adaae4",
   "metadata": {},
   "outputs": [],
   "source": [
    "SELECT * FROM ... WHERE course = 'data-engineering-zoomcamp'"
   ]
  },
  {
   "cell_type": "code",
   "execution_count": 1,
   "id": "0404fcb8-5213-4b87-bc34-e6f8e1c91d46",
   "metadata": {},
   "outputs": [],
   "source": [
    "import elasticsearch"
   ]
  },
  {
   "cell_type": "code",
   "execution_count": 2,
   "id": "952c83b6-3caa-47af-88d2-6a81ce0502b6",
   "metadata": {},
   "outputs": [],
   "source": [
    "from elasticsearch import Elasticsearch"
   ]
  },
  {
   "cell_type": "code",
   "execution_count": 3,
   "id": "0d2252ca-4323-489d-83b7-5813c38a88cb",
   "metadata": {},
   "outputs": [],
   "source": [
    "es_client = Elasticsearch(hosts=['http://localhost:9200'])"
   ]
  },
  {
   "cell_type": "code",
   "execution_count": 4,
   "id": "89f9dbe1-6170-434b-95c3-c92913e95049",
   "metadata": {},
   "outputs": [
    {
     "data": {
      "text/plain": [
       "ObjectApiResponse({'name': 'c567b10143a1', 'cluster_name': 'docker-cluster', 'cluster_uuid': 'oi30js35T9mreF-n1i-MKg', 'version': {'number': '8.4.3', 'build_flavor': 'default', 'build_type': 'docker', 'build_hash': '42f05b9372a9a4a470db3b52817899b99a76ee73', 'build_date': '2022-10-04T07:17:24.662462378Z', 'build_snapshot': False, 'lucene_version': '9.3.0', 'minimum_wire_compatibility_version': '7.17.0', 'minimum_index_compatibility_version': '7.0.0'}, 'tagline': 'You Know, for Search'})"
      ]
     },
     "execution_count": 4,
     "metadata": {},
     "output_type": "execute_result"
    }
   ],
   "source": [
    "es_client.info()"
   ]
  },
  {
   "cell_type": "code",
   "execution_count": 9,
   "id": "06cd979f-0fd5-481b-8497-0e267bbe360f",
   "metadata": {},
   "outputs": [],
   "source": [
    "index_name = \"course-questions\"\n"
   ]
  },
  {
   "cell_type": "code",
   "execution_count": 17,
   "id": "0ce54acc-b2e8-480e-87fc-aa8760a850ab",
   "metadata": {},
   "outputs": [
    {
     "data": {
      "text/plain": [
       "ObjectApiResponse({'acknowledged': True, 'shards_acknowledged': True, 'index': 'course-questions'})"
      ]
     },
     "execution_count": 17,
     "metadata": {},
     "output_type": "execute_result"
    }
   ],
   "source": [
    "index_settings = {\n",
    "    \"settings\": {\n",
    "        \"number_of_shards\": 1,\n",
    "        \"number_of_replicas\": 0\n",
    "    },\n",
    "    \"mappings\": {\n",
    "        \"properties\": {\n",
    "            \"text\": {\"type\": \"text\"},\n",
    "            \"section\": {\"type\": \"text\"},\n",
    "            \"question\": {\"type\": \"text\"},\n",
    "            \"course\": {\"type\": \"keyword\"} \n",
    "        }\n",
    "    }\n",
    "}\n",
    "\n",
    "response = es_client.indices.create(index=index_name, body=index_settings)\n",
    "\n",
    "response"
   ]
  },
  {
   "cell_type": "code",
   "execution_count": 18,
   "id": "9a7fe0c6-3fcc-467b-94f8-0a0f308cb872",
   "metadata": {},
   "outputs": [
    {
     "name": "stderr",
     "output_type": "stream",
     "text": [
      "/usr/local/python/3.10.13/lib/python3.10/site-packages/tqdm/auto.py:21: TqdmWarning: IProgress not found. Please update jupyter and ipywidgets. See https://ipywidgets.readthedocs.io/en/stable/user_install.html\n",
      "  from .autonotebook import tqdm as notebook_tqdm\n"
     ]
    }
   ],
   "source": [
    "from tqdm.auto import tqdm"
   ]
  },
  {
   "cell_type": "code",
   "execution_count": 19,
   "id": "6bee7a99-a971-4da1-9452-f4823b00790d",
   "metadata": {},
   "outputs": [
    {
     "name": "stderr",
     "output_type": "stream",
     "text": [
      "100%|██████████████████████████████████| 948/948 [00:29<00:00, 32.08it/s]\n"
     ]
    }
   ],
   "source": [
    "for doc in tqdm(documents):\n",
    "    es_client.index(index=index_name, document=doc)"
   ]
  },
  {
   "cell_type": "code",
   "execution_count": 5,
   "id": "0b5fdc99-d338-400c-bfc0-4e092a0cde1d",
   "metadata": {},
   "outputs": [],
   "source": [
    "query = \"I just discovered the course. Can I still join?\""
   ]
  },
  {
   "cell_type": "code",
   "execution_count": 6,
   "id": "7c53b5ae-c48e-4597-9799-e5f9839b9377",
   "metadata": {},
   "outputs": [
    {
     "ename": "NameError",
     "evalue": "name 'documents' is not defined",
     "output_type": "error",
     "traceback": [
      "\u001b[0;31m---------------------------------------------------------------------------\u001b[0m",
      "\u001b[0;31mNameError\u001b[0m                                 Traceback (most recent call last)",
      "Cell \u001b[0;32mIn[6], line 1\u001b[0m\n\u001b[0;32m----> 1\u001b[0m \u001b[43mdocuments\u001b[49m[\u001b[38;5;241m2\u001b[39m]\n",
      "\u001b[0;31mNameError\u001b[0m: name 'documents' is not defined"
     ]
    }
   ],
   "source": [
    "documents[2]"
   ]
  },
  {
   "cell_type": "code",
   "execution_count": 11,
   "id": "4f5dbd31-55bf-43ee-9c47-2c86a4fcc8ad",
   "metadata": {},
   "outputs": [],
   "source": []
  },
  {
   "cell_type": "code",
   "execution_count": 58,
   "id": "2b40b030-f947-48e4-bece-aeb8114ce8ce",
   "metadata": {},
   "outputs": [],
   "source": [
    "def retrieve(query):\n",
    "    search_query = {\n",
    "        \"size\": 5,\n",
    "        \"query\": {\n",
    "            \"bool\": {\n",
    "                \"must\": {\n",
    "                    \"multi_match\": {\n",
    "                        \"query\": query,\n",
    "                        \"fields\": [\"question^3\", \"text\", \"section\"],\n",
    "                        \"type\": \"best_fields\"\n",
    "                    }\n",
    "                },\n",
    "                \"filter\": {\n",
    "                    \"term\": {\n",
    "                        \"course\": \"data-engineering-zoomcamp\"\n",
    "                    }\n",
    "                }\n",
    "            }\n",
    "        }\n",
    "    }\n",
    "    response = es_client.search(index=index_name, body=search_query)\n",
    "\n",
    "    relevant_docs = []\n",
    "    for hit in response['hits']['hits']:\n",
    "        doc = hit['_source']\n",
    "        relevant_docs.append(doc)\n",
    "\n",
    "    return relevant_docs"
   ]
  },
  {
   "cell_type": "code",
   "execution_count": 14,
   "id": "08eac5cf-a32a-4ca7-b818-9c0e0d2eb931",
   "metadata": {},
   "outputs": [],
   "source": [
    "from openai import OpenAI"
   ]
  },
  {
   "cell_type": "code",
   "execution_count": 16,
   "id": "e16de3ba-50b1-4af3-a377-ca8020552891",
   "metadata": {},
   "outputs": [],
   "source": [
    "openai_client = OpenAI()"
   ]
  },
  {
   "cell_type": "code",
   "execution_count": 51,
   "id": "af441966-a6b8-4f1c-ab82-3828e5c196b6",
   "metadata": {},
   "outputs": [],
   "source": [
    "prompt_template = \"\"\"\n",
    "You're a course teaching assistant. You need to answer a QUESTION from students based on\n",
    "the provided CONTEXT. If the provided CONTEXT doesn't contain the answer, say \"I don't know\"\n",
    "\n",
    "QUESTION: {query}\n",
    "\n",
    "CONTEXT:\n",
    "\n",
    "{context}\n",
    "\"\"\".strip()\n",
    "\n",
    "context_template = \"\"\"\n",
    "section: {section}\n",
    "question: {question}\n",
    "answer: {text}\n",
    "\"\"\".strip()\n",
    "\n",
    "def build_prompt(query, context_documents):\n",
    "    context = \"\"\n",
    "\n",
    "    for doc in context_documents:\n",
    "        context_piece = context_template.format(**doc)\n",
    "        context = context + '\\n\\n' + context_piece\n",
    "    \n",
    "    context = context.strip()\n",
    "\n",
    "    prompt = prompt_template.format(query=query, context=context)\n",
    "\n",
    "    return prompt"
   ]
  },
  {
   "cell_type": "code",
   "execution_count": 46,
   "id": "c8118469-57ba-4c56-a6f3-c9e3823a9ea9",
   "metadata": {},
   "outputs": [],
   "source": [
    "def llm(prompt):\n",
    "    oai_response = openai_client.chat.completions.create(\n",
    "        model=\"gpt-4o\",\n",
    "        messages=[\n",
    "            {\"role\": \"user\", \"content\": prompt},\n",
    "        ]\n",
    "    )\n",
    "    \n",
    "    return oai_response.choices[0].message.content"
   ]
  },
  {
   "cell_type": "code",
   "execution_count": 47,
   "id": "2b53df96-d1b8-4ea4-9a60-991b0c774c47",
   "metadata": {},
   "outputs": [],
   "source": [
    "def rag(query):\n",
    "    context_documents = retrieve(query)\n",
    "    prompt = build_prompt(query, context_documents)\n",
    "    response = llm(prompt)\n",
    "    return response"
   ]
  },
  {
   "cell_type": "code",
   "execution_count": 62,
   "id": "fbba9fa2-713c-4de3-8897-c457bcc60b9e",
   "metadata": {},
   "outputs": [],
   "source": [
    "query = \"Can I attend the program if I'm a few days late?\""
   ]
  },
  {
   "cell_type": "code",
   "execution_count": 63,
   "id": "b1ce0a30-dbdb-4599-a185-749677474eef",
   "metadata": {},
   "outputs": [],
   "source": [
    "context_documents = retrieve(query)\n",
    "prompt = build_prompt(query, context_documents)"
   ]
  },
  {
   "cell_type": "code",
   "execution_count": 64,
   "id": "842e760b-1c68-4568-aedb-739be72a2939",
   "metadata": {},
   "outputs": [
    {
     "name": "stdout",
     "output_type": "stream",
     "text": [
      "You're a course teaching assistant. You need to answer a QUESTION from students based on\n",
      "the provided CONTEXT. If the provided CONTEXT doesn't contain the answer, say \"I don't know\"\n",
      "\n",
      "QUESTION: Can I attend the program if I'm a few days late?\n",
      "\n",
      "CONTEXT:\n",
      "\n",
      "section: Module 4: analytics engineering with dbt\n",
      "question: Build - Why do my Fact_trips only contain a few days of data?\n",
      "answer: Make sure you use:\n",
      "dbt run --var ‘is_test_run: false’ or\n",
      "dbt build --var ‘is_test_run: false’\n",
      "(watch out for formatted text from this document: re-type the single quotes). If that does not work, use --vars '{'is_test_run': 'false'}' with each phrase separately quoted.\n",
      "\n",
      "section: General course-related questions\n",
      "question: Course - Can I get support if I take the course in the self-paced mode?\n",
      "answer: Yes, the slack channel remains open and you can ask questions there. But always sDocker containers exit code w search the channel first and second, check the FAQ (this document), most likely all your questions are already answered here.\n",
      "You can also tag the bot @ZoomcampQABot to help you conduct the search, but don’t rely on its answers 100%, it is pretty good though.\n",
      "\n",
      "section: General course-related questions\n",
      "question: Office Hours - I can’t attend the “Office hours” / workshop, will it be recorded?\n",
      "answer: Yes! Every “Office Hours” will be recorded and available a few minutes after the live session is over; so you can view (or rewatch) whenever you want.\n",
      "\n",
      "section: Module 4: analytics engineering with dbt\n",
      "question: Dbt+git - It appears that I can't edit the files because I'm in read-only mode. Does anyone know how I can change that?\n",
      "answer: Create a new branch for development, then you can merge it to the main branch\n",
      "Create a new branch and switch to this branch. It allows you to make changes. Then you can commit and push the changes to the “main” branch.\n",
      "\n",
      "section: General course-related questions\n",
      "question: Certificate - Can I follow the course in a self-paced mode and get a certificate?\n",
      "answer: No, you can only get a certificate if you finish the course with a “live” cohort. We don't award certificates for the self-paced mode. The reason is you need to peer-review capstone(s) after submitting a project. You can only peer-review projects at the time the course is running.\n"
     ]
    }
   ],
   "source": [
    "print(prompt)"
   ]
  },
  {
   "cell_type": "code",
   "execution_count": 65,
   "id": "c805ffff-a9ed-4494-bff5-dba556e89815",
   "metadata": {},
   "outputs": [
    {
     "data": {
      "text/plain": [
       "\"I don't know.\""
      ]
     },
     "execution_count": 65,
     "metadata": {},
     "output_type": "execute_result"
    }
   ],
   "source": [
    "rag(\"how can I install kafka?\")"
   ]
  },
  {
   "cell_type": "code",
   "execution_count": 50,
   "id": "bcdd9845-5a30-45bc-a656-f15b5e6e0615",
   "metadata": {},
   "outputs": [
    {
     "name": "stdout",
     "output_type": "stream",
     "text": [
      "It looks like installing Kafka isn't directly addressed in the provided context. However, I'll offer guidance based on general Kafka installation steps. \n",
      "\n",
      "To install Apache Kafka, you can follow these steps:\n",
      "\n",
      "1. **Download Kafka**: \n",
      "   - Visit the [Apache Kafka downloads page](https://kafka.apache.org/downloads).\n",
      "   - Download the latest stable binary release.\n",
      "\n",
      "2. **Extract the Archive**:\n",
      "   - Unzip or tar the downloaded file to your desired directory.\n",
      "\n",
      "   ```sh\n",
      "   tar -xzf kafka_2.13-2.8.0.tgz\n",
      "   cd kafka_2.13-2.8.0\n",
      "   ```\n",
      "\n",
      "3. **Start the Kafka Environment**:\n",
      "   - Kafka requires a running Zookeeper instance. You can find the scripts to start Zookeeper and Kafka in the `bin` directory.\n",
      "\n",
      "   - Start Zookeeper:\n",
      "     ```sh\n",
      "     bin/zookeeper-server-start.sh config/zookeeper.properties\n",
      "     ```\n",
      "\n",
      "   - Start Kafka server:\n",
      "     ```sh\n",
      "     bin/kafka-server-start.sh config/server.properties\n",
      "     ```\n",
      "\n",
      "4. **Create Topics and Start Producing/Consuming Messages**:\n",
      "   - Create a topic:\n",
      "     ```sh\n",
      "     bin/kafka-topics.sh --create --topic my-topic --bootstrap-server localhost:9092 --partitions 1 --replication-factor 1\n",
      "     ```\n",
      "\n",
      "   - Start a producer to send messages:\n",
      "     ```sh\n",
      "     bin/kafka-console-producer.sh --topic my-topic --bootstrap-server localhost:9092\n",
      "     ```\n",
      "\n",
      "   - Start a consumer to read messages:\n",
      "     ```sh\n",
      "     bin/kafka-console-consumer.sh --topic my-topic --from-beginning --bootstrap-server localhost:9092\n",
      "     ```\n",
      "\n",
      "Make sure you have Java installed and properly configured on your machine, as Kafka requires a running Java environment.\n",
      "\n",
      "For detailed instructions, you can always refer to the official [Kafka documentation](https://kafka.apache.org/documentation/).\n",
      "\n",
      "If you have any other questions or run into issues, feel free to ask!\n"
     ]
    }
   ],
   "source": [
    "print(_)"
   ]
  },
  {
   "cell_type": "code",
   "execution_count": null,
   "id": "971dde43-6482-4d02-a42c-2f59a47c8d6f",
   "metadata": {},
   "outputs": [],
   "source": []
  }
 ],
 "metadata": {
  "kernelspec": {
   "display_name": "Python 3 (ipykernel)",
   "language": "python",
   "name": "python3"
  },
  "language_info": {
   "codemirror_mode": {
    "name": "ipython",
    "version": 3
   },
   "file_extension": ".py",
   "mimetype": "text/x-python",
   "name": "python",
   "nbconvert_exporter": "python",
   "pygments_lexer": "ipython3",
   "version": "3.10.13"
  }
 },
 "nbformat": 4,
 "nbformat_minor": 5
}
