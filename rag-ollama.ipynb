{
 "cells": [
  {
   "cell_type": "code",
   "execution_count": 4,
   "id": "ffe8e70f-8f53-4c4a-8097-4a629fd61e52",
   "metadata": {
    "scrolled": true
   },
   "outputs": [
    {
     "name": "stdout",
     "output_type": "stream",
     "text": [
      "--2024-06-25 11:51:19--  https://github.com/alexeygrigorev/llm-rag-workshop/raw/main/notebooks/documents.json\n",
      "Resolving github.com (github.com)... 140.82.121.3\n",
      "Connecting to github.com (github.com)|140.82.121.3|:443... connected.\n",
      "HTTP request sent, awaiting response... 302 Found\n",
      "Location: https://raw.githubusercontent.com/alexeygrigorev/llm-rag-workshop/main/notebooks/documents.json [following]\n",
      "--2024-06-25 11:51:19--  https://raw.githubusercontent.com/alexeygrigorev/llm-rag-workshop/main/notebooks/documents.json\n",
      "Resolving raw.githubusercontent.com (raw.githubusercontent.com)... 185.199.109.133, 185.199.110.133, 185.199.111.133, ...\n",
      "Connecting to raw.githubusercontent.com (raw.githubusercontent.com)|185.199.109.133|:443... connected.\n",
      "HTTP request sent, awaiting response... 200 OK\n",
      "Length: 658332 (643K) [text/plain]\n",
      "Saving to: ‘documents.json’\n",
      "\n",
      "documents.json      100%[===================>] 642.90K  --.-KB/s    in 0.007s  \n",
      "\n",
      "2024-06-25 11:51:19 (90.3 MB/s) - ‘documents.json’ saved [658332/658332]\n",
      "\n"
     ]
    }
   ],
   "source": [
    "!wget https://github.com/alexeygrigorev/llm-rag-workshop/raw/main/notebooks/documents.json"
   ]
  },
  {
   "cell_type": "code",
   "execution_count": 5,
   "id": "f4a08c9b-3f97-4556-8253-c35206c17746",
   "metadata": {},
   "outputs": [],
   "source": [
    "import json"
   ]
  },
  {
   "cell_type": "code",
   "execution_count": 6,
   "id": "bc28baea-20b4-4726-9e47-afd7ba4fa562",
   "metadata": {},
   "outputs": [],
   "source": [
    "with open('./documents.json', 'rt') as f_in:\n",
    "    documents_all = json.load(f_in)"
   ]
  },
  {
   "cell_type": "code",
   "execution_count": 7,
   "id": "9072f70a-d5b8-47ff-9a0b-efd77646fedc",
   "metadata": {},
   "outputs": [
    {
     "data": {
      "text/plain": [
       "{'text': \"The purpose of this document is to capture frequently asked technical questions\\nThe exact day and hour of the course will be 15th Jan 2024 at 17h00. The course will start with the first  “Office Hours'' live.1\\nSubscribe to course public Google Calendar (it works from Desktop only).\\nRegister before the course starts using this link.\\nJoin the course Telegram channel with announcements.\\nDon’t forget to register in DataTalks.Club's Slack and join the channel.\",\n",
       " 'section': 'General course-related questions',\n",
       " 'question': 'Course - When will the course start?'}"
      ]
     },
     "execution_count": 7,
     "metadata": {},
     "output_type": "execute_result"
    }
   ],
   "source": [
    "documents_all[0]['documents'][0]"
   ]
  },
  {
   "cell_type": "code",
   "execution_count": 8,
   "id": "4ed544f0-7e58-4811-a05f-388503cd5e28",
   "metadata": {},
   "outputs": [],
   "source": [
    "documents = []\n",
    "\n",
    "for course in documents_all:\n",
    "    for doc in course['documents']:\n",
    "        doc['course'] = course['course']\n",
    "        documents.append(doc)"
   ]
  },
  {
   "cell_type": "code",
   "execution_count": 9,
   "id": "767c4624-f7e9-4d1e-8ff0-bd0d0ec93a88",
   "metadata": {},
   "outputs": [
    {
     "data": {
      "text/plain": [
       "948"
      ]
     },
     "execution_count": 9,
     "metadata": {},
     "output_type": "execute_result"
    }
   ],
   "source": [
    "len(documents)"
   ]
  },
  {
   "cell_type": "code",
   "execution_count": null,
   "id": "39aa7cba-3e3f-4126-883b-e935e5adaae4",
   "metadata": {},
   "outputs": [],
   "source": [
    "SELECT * FROM ... WHERE course = 'data-engineering-zoomcamp'"
   ]
  },
  {
   "cell_type": "code",
   "execution_count": 10,
   "id": "0404fcb8-5213-4b87-bc34-e6f8e1c91d46",
   "metadata": {},
   "outputs": [],
   "source": [
    "import elasticsearch"
   ]
  },
  {
   "cell_type": "code",
   "execution_count": 11,
   "id": "952c83b6-3caa-47af-88d2-6a81ce0502b6",
   "metadata": {},
   "outputs": [],
   "source": [
    "from elasticsearch import Elasticsearch"
   ]
  },
  {
   "cell_type": "code",
   "execution_count": 12,
   "id": "0d2252ca-4323-489d-83b7-5813c38a88cb",
   "metadata": {},
   "outputs": [],
   "source": [
    "es_client = Elasticsearch(hosts=['http://localhost:9200'])"
   ]
  },
  {
   "cell_type": "code",
   "execution_count": 13,
   "id": "89f9dbe1-6170-434b-95c3-c92913e95049",
   "metadata": {},
   "outputs": [
    {
     "data": {
      "text/plain": [
       "ObjectApiResponse({'name': '4e4404153c04', 'cluster_name': 'docker-cluster', 'cluster_uuid': 'kVrnIZ0KRluFteNHxw3sYA', 'version': {'number': '8.4.3', 'build_flavor': 'default', 'build_type': 'docker', 'build_hash': '42f05b9372a9a4a470db3b52817899b99a76ee73', 'build_date': '2022-10-04T07:17:24.662462378Z', 'build_snapshot': False, 'lucene_version': '9.3.0', 'minimum_wire_compatibility_version': '7.17.0', 'minimum_index_compatibility_version': '7.0.0'}, 'tagline': 'You Know, for Search'})"
      ]
     },
     "execution_count": 13,
     "metadata": {},
     "output_type": "execute_result"
    }
   ],
   "source": [
    "es_client.info()"
   ]
  },
  {
   "cell_type": "code",
   "execution_count": 14,
   "id": "06cd979f-0fd5-481b-8497-0e267bbe360f",
   "metadata": {},
   "outputs": [],
   "source": [
    "index_name = \"course-questions\"\n"
   ]
  },
  {
   "cell_type": "code",
   "execution_count": 15,
   "id": "0ce54acc-b2e8-480e-87fc-aa8760a850ab",
   "metadata": {},
   "outputs": [
    {
     "data": {
      "text/plain": [
       "ObjectApiResponse({'acknowledged': True, 'shards_acknowledged': True, 'index': 'course-questions'})"
      ]
     },
     "execution_count": 15,
     "metadata": {},
     "output_type": "execute_result"
    }
   ],
   "source": [
    "index_settings = {\n",
    "    \"settings\": {\n",
    "        \"number_of_shards\": 1,\n",
    "        \"number_of_replicas\": 0\n",
    "    },\n",
    "    \"mappings\": {\n",
    "        \"properties\": {\n",
    "            \"text\": {\"type\": \"text\"},\n",
    "            \"section\": {\"type\": \"text\"},\n",
    "            \"question\": {\"type\": \"text\"},\n",
    "            \"course\": {\"type\": \"keyword\"} \n",
    "        }\n",
    "    }\n",
    "}\n",
    "\n",
    "response = es_client.indices.create(index=index_name, body=index_settings)\n",
    "\n",
    "response"
   ]
  },
  {
   "cell_type": "code",
   "execution_count": 16,
   "id": "9a7fe0c6-3fcc-467b-94f8-0a0f308cb872",
   "metadata": {},
   "outputs": [
    {
     "name": "stderr",
     "output_type": "stream",
     "text": [
      "/usr/local/python/3.10.13/lib/python3.10/site-packages/tqdm/auto.py:21: TqdmWarning: IProgress not found. Please update jupyter and ipywidgets. See https://ipywidgets.readthedocs.io/en/stable/user_install.html\n",
      "  from .autonotebook import tqdm as notebook_tqdm\n"
     ]
    }
   ],
   "source": [
    "from tqdm.auto import tqdm"
   ]
  },
  {
   "cell_type": "code",
   "execution_count": 17,
   "id": "6bee7a99-a971-4da1-9452-f4823b00790d",
   "metadata": {},
   "outputs": [
    {
     "name": "stderr",
     "output_type": "stream",
     "text": [
      "100%|███████████████████████████████████████████| 948/948 [00:24<00:00, 39.22it/s]\n"
     ]
    }
   ],
   "source": [
    "for doc in tqdm(documents):\n",
    "    es_client.index(index=index_name, document=doc)"
   ]
  },
  {
   "cell_type": "code",
   "execution_count": 18,
   "id": "0b5fdc99-d338-400c-bfc0-4e092a0cde1d",
   "metadata": {},
   "outputs": [],
   "source": [
    "query = \"I just discovered the course. Can I still join?\""
   ]
  },
  {
   "cell_type": "code",
   "execution_count": null,
   "id": "4f5dbd31-55bf-43ee-9c47-2c86a4fcc8ad",
   "metadata": {},
   "outputs": [],
   "source": []
  },
  {
   "cell_type": "code",
   "execution_count": 19,
   "id": "2b40b030-f947-48e4-bece-aeb8114ce8ce",
   "metadata": {},
   "outputs": [],
   "source": [
    "def retrieve(query):\n",
    "    search_query = {\n",
    "        \"size\": 5,\n",
    "        \"query\": {\n",
    "            \"bool\": {\n",
    "                \"must\": {\n",
    "                    \"multi_match\": {\n",
    "                        \"query\": query,\n",
    "                        \"fields\": [\"question^3\", \"text\", \"section\"],\n",
    "                        \"type\": \"best_fields\"\n",
    "                    }\n",
    "                },\n",
    "                \"filter\": {\n",
    "                    \"term\": {\n",
    "                        \"course\": \"data-engineering-zoomcamp\"\n",
    "                    }\n",
    "                }\n",
    "            }\n",
    "        }\n",
    "    }\n",
    "    response = es_client.search(index=index_name, body=search_query)\n",
    "\n",
    "    relevant_docs = []\n",
    "    for hit in response['hits']['hits']:\n",
    "        doc = hit['_source']\n",
    "        relevant_docs.append(doc)\n",
    "\n",
    "    return relevant_docs"
   ]
  },
  {
   "cell_type": "code",
   "execution_count": 20,
   "id": "08eac5cf-a32a-4ca7-b818-9c0e0d2eb931",
   "metadata": {},
   "outputs": [],
   "source": [
    "from openai import OpenAI"
   ]
  },
  {
   "cell_type": "code",
   "execution_count": 22,
   "id": "e16de3ba-50b1-4af3-a377-ca8020552891",
   "metadata": {},
   "outputs": [],
   "source": [
    "openai_client = OpenAI(\n",
    "    api_key=\"doesn't matter\",\n",
    "    base_url='http://localhost:11434/v1/',\n",
    ")"
   ]
  },
  {
   "cell_type": "code",
   "execution_count": 39,
   "id": "af441966-a6b8-4f1c-ab82-3828e5c196b6",
   "metadata": {},
   "outputs": [],
   "source": [
    "prompt_template = \"\"\"\n",
    "You're a course teaching assistant. You need to answer a QUESTION from students based on\n",
    "the provided CONTEXT.\n",
    "\n",
    "QUESTION: {query}\n",
    "\n",
    "CONTEXT:\n",
    "\n",
    "{context}\n",
    "\"\"\".strip()\n",
    "\n",
    "context_template = \"\"\"\n",
    "section: {section}\n",
    "question: {question}\n",
    "answer: {text}\n",
    "\"\"\".strip()\n",
    "\n",
    "def build_prompt(query, context_documents):\n",
    "    context = \"\"\n",
    "\n",
    "    for doc in context_documents:\n",
    "        context_piece = context_template.format(**doc)\n",
    "        context = context + '\\n\\n' + context_piece\n",
    "    \n",
    "    context = context.strip()\n",
    "\n",
    "    prompt = prompt_template.format(query=query, context=context)\n",
    "\n",
    "    return prompt"
   ]
  },
  {
   "cell_type": "code",
   "execution_count": 40,
   "id": "c8118469-57ba-4c56-a6f3-c9e3823a9ea9",
   "metadata": {},
   "outputs": [],
   "source": [
    "def llm(prompt):\n",
    "    oai_response = openai_client.chat.completions.create(\n",
    "        model=\"phi3\",\n",
    "        messages=[{\"role\": \"user\", \"content\": prompt},]\n",
    "    )\n",
    "    \n",
    "    return oai_response.choices[0].message.content"
   ]
  },
  {
   "cell_type": "code",
   "execution_count": 41,
   "id": "2b53df96-d1b8-4ea4-9a60-991b0c774c47",
   "metadata": {},
   "outputs": [],
   "source": [
    "def rag(query):\n",
    "    context_documents = retrieve(query)\n",
    "    prompt = build_prompt(query, context_documents)\n",
    "    response = llm(prompt)\n",
    "    return response"
   ]
  },
  {
   "cell_type": "code",
   "execution_count": 42,
   "id": "fbba9fa2-713c-4de3-8897-c457bcc60b9e",
   "metadata": {},
   "outputs": [],
   "source": [
    "query = \"I just found out about the course. Can I still join it?\""
   ]
  },
  {
   "cell_type": "code",
   "execution_count": 43,
   "id": "c805ffff-a9ed-4494-bff5-dba556e89815",
   "metadata": {},
   "outputs": [
    {
     "data": {
      "text/plain": [
       "\" While specific course start dates vary, generally, you cannot join a course after its official start date unless there are exceptions provided by the instructor or institution. However, based on the context provided:\\n\\n- You can still participate in submitting homework assignments even if you haven't registered officially before the start date. There will be deadlines for final projects though, so it's best to plan accordingly and not leave everything until the last moment.\\n- The course materials will remain available after the course ends, allowing self-paced learning at any time thereafter. This means you can continue working on assignments or prepare for future cohorts even if you join late. \\n- It's advisable to register as soon as possible to ensure a smooth experience and access to all resources provided by the course.\\n\\nFor specific guidance about joining after the start date, please consult your instructor directly.\""
      ]
     },
     "execution_count": 43,
     "metadata": {},
     "output_type": "execute_result"
    }
   ],
   "source": [
    "rag(query)"
   ]
  },
  {
   "cell_type": "code",
   "execution_count": null,
   "id": "971dde43-6482-4d02-a42c-2f59a47c8d6f",
   "metadata": {},
   "outputs": [],
   "source": []
  }
 ],
 "metadata": {
  "kernelspec": {
   "display_name": "Python 3 (ipykernel)",
   "language": "python",
   "name": "python3"
  },
  "language_info": {
   "codemirror_mode": {
    "name": "ipython",
    "version": 3
   },
   "file_extension": ".py",
   "mimetype": "text/x-python",
   "name": "python",
   "nbconvert_exporter": "python",
   "pygments_lexer": "ipython3",
   "version": "3.10.13"
  }
 },
 "nbformat": 4,
 "nbformat_minor": 5
}
